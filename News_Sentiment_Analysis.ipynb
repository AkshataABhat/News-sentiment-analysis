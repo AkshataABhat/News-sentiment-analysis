{
  "nbformat": 4,
  "nbformat_minor": 0,
  "metadata": {
    "colab": {
      "provenance": []
    },
    "kernelspec": {
      "name": "python3",
      "display_name": "Python 3"
    },
    "language_info": {
      "name": "python"
    }
  },
  "cells": [
    {
      "cell_type": "markdown",
      "source": [
        "**Akshata A Bhat**\n",
        "\n",
        "\n",
        "**News Sentiment Analysis using News-API**"
      ],
      "metadata": {
        "id": "oIw5aXIS15Pq"
      }
    },
    {
      "cell_type": "markdown",
      "source": [
        "Importing the required libraries\n"
      ],
      "metadata": {
        "id": "VLTpQwgm6-fK"
      }
    },
    {
      "cell_type": "code",
      "source": [
        "import pandas as pd\n",
        "import numpy as np\n",
        "import matplotlib.pyplot as plt\n",
        "%matplotlib inline\n",
        "import requests\n",
        "import bs4\n",
        "import textblob"
      ],
      "metadata": {
        "id": "94dELXDtteIg"
      },
      "execution_count": 7,
      "outputs": []
    },
    {
      "cell_type": "markdown",
      "source": [
        "Seniment Analysis using India News API from NEWS API "
      ],
      "metadata": {
        "id": "qYI4Dipf7EPg"
      }
    },
    {
      "cell_type": "code",
      "source": [
        "def analyze(tweet):\n",
        "  analysis=TextBlob(tweet)\n",
        "  if analysis.sentiment.polarity>0:\n",
        "    return 'Positive'\n",
        "  elif analysis.sentiment.polarity==0:\n",
        "    return 'Neutral'\n",
        "  else:\n",
        "    return 'Negative'\n"
      ],
      "metadata": {
        "id": "1Z6dSs1kvg-M"
      },
      "execution_count": 8,
      "outputs": []
    },
    {
      "cell_type": "markdown",
      "source": [
        "We print the top news categorized based on the country and topic of user's/reader's interest. We then extract the sentiment of the news article and print whether the sentiment is positive, negative or neutral based on polarity. The API used is the news-api and data fetched is from India News."
      ],
      "metadata": {
        "id": "tr949lC12WK0"
      }
    },
    {
      "cell_type": "code",
      "source": [
        "from newsapi import NewsApiClient\n",
        "import pycountry\n",
        "import textblob\n",
        "from textblob import TextBlob\n",
        "# you have to get your api key from newapi.com and then paste it below\n",
        "newsapi = NewsApiClient(api_key='56c131a55a344043a02a65ab0720f84c')\n",
        "\n",
        "# now we will take name of country from user as input\n",
        "input_country = input(\"Country: \")\n",
        "input_countries = [f'{input_country.strip()}']\n",
        "countries = {}\n",
        "\n",
        "# iterate over all the countries in\n",
        "# the world using pycountry module\n",
        "for country in pycountry.countries:\n",
        "\n",
        "\t# and store the unique code of each country\n",
        "\t# in the dictionary along with it's full name\n",
        "\tcountries[country.name] = country.alpha_2\n",
        "\n",
        "# now we will check that the entered country name is\n",
        "# valid or invalid using the unique code\n",
        "codes = [countries.get(country.title(), 'Unknown code')\n",
        "\t\tfor country in input_countries]\n",
        "\n",
        "# now we have to display all the categories from which user will\n",
        "# decide and enter the name of that category\n",
        "option = input(\"Which category are you interested in?\\n1.Business\\n2.Entertainment\\n3.General\\n4.Health\\n5.Science\\n6.Technology\\n\\nEnter here: \")\n",
        "\n",
        "# now we will fetch the new according to the choice of the user\n",
        "top_headlines = newsapi.get_top_headlines(# getting top headlines from all the news channels\n",
        "\tcategory=f'{option.lower()}', language='en', country=f'{codes[0].lower()}')\n",
        "\n",
        "# fetch the top news under that category\n",
        "Headlines = top_headlines['articles']\n",
        "\n",
        "# now we will display the that news with a good readability for user\n",
        "if Headlines:\n",
        "\t\tfor articles in Headlines:\n",
        "\t\t\tb = articles['title'][::-1].index(\"-\")\n",
        "\t \t\t\n",
        "\n",
        "\t\t\tif \"news\" in (articles['description'][-b+1:]).lower():\n",
        "\t\t\t\tprint(f\"{articles['description'][-b+1:]}: {articles['description'][:-b-2]}.\")\n",
        "\t\t\t\tb1=TextBlob(articles['description'])\n",
        "\t\t\t\tprint(b1.sentiment)\n",
        "\t\t\t\tprint(\"Sentiment of news article is:\",analyze(articles['description']))\n",
        "\t\t\t\tprint(\"----------------------------------------------\")\n",
        "\t\t\telse:\n",
        "\t\t\t\tprint(f\"{articles['title'][-b+1:]} News: {articles['title'][:-b-2]}.\")\n",
        "\t\t\t\tb2=TextBlob(articles['title'])\n",
        "\t\t\t\tprint(b2.sentiment)\n",
        "\t\t\t\tprint(analyze(articles['title']))\n",
        "\t\t\t\tprint(\"Sentiment of news article is:\",analyze(articles['title']))\n",
        "\t\t\t\tprint(\"----------------------------------------------\")\n",
        "\t\t\n",
        "else:\n",
        "\tprint(f\"Sorry no articles found for {input_country}, Something Wrong!!!\")\n",
        "\toption = input(\"Do you want to search again[Yes/No]?\")\n"
      ],
      "metadata": {
        "colab": {
          "base_uri": "https://localhost:8080/"
        },
        "id": "r95cTsbUtnMO",
        "outputId": "6e929903-e190-4369-f818-8c0c408e71f9"
      },
      "execution_count": 10,
      "outputs": [
        {
          "output_type": "stream",
          "name": "stdout",
          "text": [
            "Country: India\n",
            "Which category are you interested in?\n",
            "1.Business\n",
            "2.Entertainment\n",
            "3.General\n",
            "4.Health\n",
            "5.Science\n",
            "6.Technology\n",
            "\n",
            "Enter here: Business\n",
            "Mint News: What Shankar Sharma's analysis says on stock market correction | Mint.\n",
            "Sentiment(polarity=0.0, subjectivity=0.0)\n",
            "Neutral\n",
            "Sentiment of news article is: Neutral\n",
            "----------------------------------------------\n",
            "Moneycontrol News: Trade setup for Tuesday: Top 15 things to know before the opening bell.\n",
            "Sentiment(polarity=0.5, subjectivity=0.5)\n",
            "Positive\n",
            "Sentiment of news article is: Positive\n",
            "----------------------------------------------\n",
            "CarToq.com News: Toyota Fortuner type 2 with Lexus body kit looks sporty & premium [video].\n",
            "Sentiment(polarity=0.0, subjectivity=0.0)\n",
            "Neutral\n",
            "Sentiment of news article is: Neutral\n",
            "----------------------------------------------\n",
            "NDTV News: 5 Points On Ex-ICICI Bank Chief Chanda Kochhar, Arrested By CBI.\n",
            "Sentiment(polarity=0.0, subjectivity=0.0)\n",
            "Neutral\n",
            "Sentiment of news article is: Neutral\n",
            "----------------------------------------------\n",
            "HP News: Kinetic Luna to return in an all-electric avatar - Tea.\n",
            "Sentiment(polarity=0.0, subjectivity=0.0)\n",
            "Neutral\n",
            "Sentiment of news article is: Neutral\n",
            "----------------------------------------------\n",
            "CarWale News: Hyundai to offer eight years battery warranty with Ioniq 5.\n",
            "Sentiment(polarity=0.0, subjectivity=0.0)\n",
            "Neutral\n",
            "Sentiment of news article is: Neutral\n",
            "----------------------------------------------\n",
            "Analytics Insight News: Terra Luna Classic Price Prediction – Can LUNC Recover to $1 in 2023?.\n",
            "Sentiment(polarity=0.16666666666666666, subjectivity=0.16666666666666666)\n",
            "Positive\n",
            "Sentiment of news article is: Positive\n",
            "----------------------------------------------\n",
            "CarToq.com News: Maruti Suzuki Baleno gets Wireless Apple Carplay and Android Auto via an OTA update.\n",
            "Sentiment(polarity=0.0, subjectivity=0.0)\n",
            "Neutral\n",
            "Sentiment of news article is: Neutral\n",
            "----------------------------------------------\n",
            "The Economic Times News: Tech View: Nifty’s long green candle not enough fodder for bulls. What traders should do Tuesday.\n",
            "Sentiment(polarity=-0.012499999999999997, subjectivity=0.35)\n",
            "Negative\n",
            "Sentiment of news article is: Negative\n",
            "----------------------------------------------\n",
            "Economic Times News: Tata Chairman N Chandrasekaran says India well placed amid global uncertainties, outlines opportunities fo.\n",
            "Sentiment(polarity=0.1, subjectivity=0.1)\n",
            "Positive\n",
            "Sentiment of news article is: Positive\n",
            "----------------------------------------------\n",
            "GaadiWaadi.com News: Exclusive: Mahindra Scorpio N Gets New Features; 5 Variants Launched.\n",
            "Sentiment(polarity=0.13636363636363635, subjectivity=0.45454545454545453)\n",
            "Positive\n",
            "Sentiment of news article is: Positive\n",
            "----------------------------------------------\n",
            "DAWN.com News: Energy stocks lead rally as KSE-100 gains 486 points.\n",
            "Sentiment(polarity=0.0, subjectivity=0.0)\n",
            "Neutral\n",
            "Sentiment of news article is: Neutral\n",
            "----------------------------------------------\n",
            "Rediff.com News: Covid runs rampant in China as govt seems absent.\n",
            "Sentiment(polarity=0.0, subjectivity=0.0)\n",
            "Neutral\n",
            "Sentiment of news article is: Neutral\n",
            "----------------------------------------------\n",
            "Zee News News: BREAKING: Mother Dairy hikes milk rate by Rs 2/ litre for THESE customers from tomorrow; Deets inside.\n",
            "Sentiment(polarity=0.0, subjectivity=0.0)\n",
            "Neutral\n",
            "Sentiment of news article is: Neutral\n",
            "----------------------------------------------\n",
            "Moneycontrol News: Jet Airways' senior management, pilots, cabin crew exit amid relaunch uncertainty: Sources.\n",
            "Sentiment(polarity=0.0, subjectivity=0.0)\n",
            "Neutral\n",
            "Sentiment of news article is: Neutral\n",
            "----------------------------------------------\n",
            "The Economic Times News: Not Kotak or HDFC Bank, 2023 belongs to Axis Bank: Vishal Malkan.\n",
            "Sentiment(polarity=0.2, subjectivity=0.2)\n",
            "Positive\n",
            "Sentiment of news article is: Positive\n",
            "----------------------------------------------\n",
            "Moneycontrol News: Why was KPMG India pulled up by the US audit regulator PCAOB?.\n",
            "Sentiment(polarity=0.0, subjectivity=0.0)\n",
            "Neutral\n",
            "Sentiment of news article is: Neutral\n",
            "----------------------------------------------\n",
            "GaadiWaadi.com News: Maruti Baleno-Based Coupe SUV Coming In Jan - What To Expect?.\n",
            "Sentiment(polarity=0.0, subjectivity=0.0)\n",
            "Neutral\n",
            "Sentiment of news article is: Neutral\n",
            "----------------------------------------------\n",
            "OilPrice.com News: Russia Says Europe Will Struggle To Replace Its Oil Products.\n",
            "Sentiment(polarity=0.0, subjectivity=0.0)\n",
            "Neutral\n",
            "Sentiment of news article is: Neutral\n",
            "----------------------------------------------\n",
            "Search Engine Journal News: What is ChatGPT And How Can You Use It?.\n",
            "Sentiment(polarity=0.0, subjectivity=0.0)\n",
            "Neutral\n",
            "Sentiment of news article is: Neutral\n",
            "----------------------------------------------\n"
          ]
        }
      ]
    },
    {
      "cell_type": "markdown",
      "source": [
        "Installing some basic libraries and requirements"
      ],
      "metadata": {
        "id": "X7FgOwW43CTY"
      }
    },
    {
      "cell_type": "code",
      "source": [
        "!pip install newsapi-python\n",
        "!pip install pycountry"
      ],
      "metadata": {
        "colab": {
          "base_uri": "https://localhost:8080/"
        },
        "id": "-QSzsgu4n6Q0",
        "outputId": "b872731e-bc77-46cf-9322-035b2df8c54f"
      },
      "execution_count": 5,
      "outputs": [
        {
          "output_type": "stream",
          "name": "stdout",
          "text": [
            "Looking in indexes: https://pypi.org/simple, https://us-python.pkg.dev/colab-wheels/public/simple/\n",
            "Collecting newsapi-python\n",
            "  Downloading newsapi_python-0.2.6-py2.py3-none-any.whl (7.9 kB)\n",
            "Requirement already satisfied: requests<3.0.0 in /usr/local/lib/python3.8/dist-packages (from newsapi-python) (2.23.0)\n",
            "Requirement already satisfied: urllib3!=1.25.0,!=1.25.1,<1.26,>=1.21.1 in /usr/local/lib/python3.8/dist-packages (from requests<3.0.0->newsapi-python) (1.24.3)\n",
            "Requirement already satisfied: chardet<4,>=3.0.2 in /usr/local/lib/python3.8/dist-packages (from requests<3.0.0->newsapi-python) (3.0.4)\n",
            "Requirement already satisfied: certifi>=2017.4.17 in /usr/local/lib/python3.8/dist-packages (from requests<3.0.0->newsapi-python) (2022.12.7)\n",
            "Requirement already satisfied: idna<3,>=2.5 in /usr/local/lib/python3.8/dist-packages (from requests<3.0.0->newsapi-python) (2.10)\n",
            "Installing collected packages: newsapi-python\n",
            "Successfully installed newsapi-python-0.2.6\n",
            "Looking in indexes: https://pypi.org/simple, https://us-python.pkg.dev/colab-wheels/public/simple/\n",
            "Collecting pycountry\n",
            "  Downloading pycountry-22.3.5.tar.gz (10.1 MB)\n",
            "\u001b[K     |████████████████████████████████| 10.1 MB 26.0 MB/s \n",
            "\u001b[?25h  Installing build dependencies ... \u001b[?25l\u001b[?25hdone\n",
            "  Getting requirements to build wheel ... \u001b[?25l\u001b[?25hdone\n",
            "    Preparing wheel metadata ... \u001b[?25l\u001b[?25hdone\n",
            "Requirement already satisfied: setuptools in /usr/local/lib/python3.8/dist-packages (from pycountry) (57.4.0)\n",
            "Building wheels for collected packages: pycountry\n",
            "  Building wheel for pycountry (PEP 517) ... \u001b[?25l\u001b[?25hdone\n",
            "  Created wheel for pycountry: filename=pycountry-22.3.5-py2.py3-none-any.whl size=10681845 sha256=b2ee52226e3cc5893945757301db1dc0809f37d58a2813f0321c780be733d80f\n",
            "  Stored in directory: /root/.cache/pip/wheels/e2/aa/0f/c224e473b464387170b83ca7c66947b4a7e33e8d903a679748\n",
            "Successfully built pycountry\n",
            "Installing collected packages: pycountry\n",
            "Successfully installed pycountry-22.3.5\n"
          ]
        }
      ]
    },
    {
      "cell_type": "markdown",
      "source": [
        "We parse the json data fetched from the API to read and understand our data"
      ],
      "metadata": {
        "id": "AhHeVQRYuS8g"
      }
    },
    {
      "cell_type": "code",
      "source": [
        "import requests\n",
        "import json\n",
        "r=requests.get('https://newsapi.org/v2/top-headlines?country=in&apiKey=56c131a55a344043a02a65ab0720f84c')\n",
        "r"
      ],
      "metadata": {
        "colab": {
          "base_uri": "https://localhost:8080/"
        },
        "id": "X1HjqDYtqAcC",
        "outputId": "3aea7011-1f30-4709-a40f-6d41edc76c8c"
      },
      "execution_count": 22,
      "outputs": [
        {
          "output_type": "execute_result",
          "data": {
            "text/plain": [
              "<Response [200]>"
            ]
          },
          "metadata": {},
          "execution_count": 22
        }
      ]
    },
    {
      "cell_type": "code",
      "source": [
        "data=json.loads(r.content)"
      ],
      "metadata": {
        "id": "vO25Dj5e1ol9"
      },
      "execution_count": 24,
      "outputs": []
    },
    {
      "cell_type": "markdown",
      "source": [
        "The data is saved in a csv file for further processing "
      ],
      "metadata": {
        "id": "7sOlsDPb3N7d"
      }
    },
    {
      "cell_type": "code",
      "source": [
        "import csv  \n",
        "\n",
        "list1=[]\n",
        "for i in range(20):\n",
        "  news=data['articles'][i]['title']\n",
        "  list1.append(news)\n",
        "\n",
        "np.savetxt('as.csv', [p for p in list1], delimiter=',', fmt='%s')\n",
        "import pandas as pd\n",
        "data1 = pd.read_csv(\"as.csv\",on_bad_lines='skip')\n",
        "data1\n",
        "\n",
        "\n",
        "with open('register.txt', 'w') as f:\n",
        "    text = [line for line in list1]"
      ],
      "metadata": {
        "id": "o-GStoP2-eVF"
      },
      "execution_count": 61,
      "outputs": []
    },
    {
      "cell_type": "code",
      "source": [
        "import pandas as pd\n",
        "df = pd.DataFrame(text,columns=['text'])\n",
        "df.head()"
      ],
      "metadata": {
        "colab": {
          "base_uri": "https://localhost:8080/",
          "height": 206
        },
        "id": "5XXKZDwWsLr_",
        "outputId": "08783c10-c200-48da-c126-770ce7217807"
      },
      "execution_count": 62,
      "outputs": [
        {
          "output_type": "execute_result",
          "data": {
            "text/plain": [
              "                                                text\n",
              "0  \"War With Mother Nature\": Colossal US Blizzard...\n",
              "1  Perseverance rover 'exciting' next step on Mar...\n",
              "2  Mock Drills Across India Today To Check Covid ...\n",
              "3  Research explains how plants optimize photosyn...\n",
              "4  Samsung's upcoming Galaxy S23 devices could ar..."
            ],
            "text/html": [
              "\n",
              "  <div id=\"df-b186205f-d363-480a-b198-5a41592ae3d5\">\n",
              "    <div class=\"colab-df-container\">\n",
              "      <div>\n",
              "<style scoped>\n",
              "    .dataframe tbody tr th:only-of-type {\n",
              "        vertical-align: middle;\n",
              "    }\n",
              "\n",
              "    .dataframe tbody tr th {\n",
              "        vertical-align: top;\n",
              "    }\n",
              "\n",
              "    .dataframe thead th {\n",
              "        text-align: right;\n",
              "    }\n",
              "</style>\n",
              "<table border=\"1\" class=\"dataframe\">\n",
              "  <thead>\n",
              "    <tr style=\"text-align: right;\">\n",
              "      <th></th>\n",
              "      <th>text</th>\n",
              "    </tr>\n",
              "  </thead>\n",
              "  <tbody>\n",
              "    <tr>\n",
              "      <th>0</th>\n",
              "      <td>\"War With Mother Nature\": Colossal US Blizzard...</td>\n",
              "    </tr>\n",
              "    <tr>\n",
              "      <th>1</th>\n",
              "      <td>Perseverance rover 'exciting' next step on Mar...</td>\n",
              "    </tr>\n",
              "    <tr>\n",
              "      <th>2</th>\n",
              "      <td>Mock Drills Across India Today To Check Covid ...</td>\n",
              "    </tr>\n",
              "    <tr>\n",
              "      <th>3</th>\n",
              "      <td>Research explains how plants optimize photosyn...</td>\n",
              "    </tr>\n",
              "    <tr>\n",
              "      <th>4</th>\n",
              "      <td>Samsung's upcoming Galaxy S23 devices could ar...</td>\n",
              "    </tr>\n",
              "  </tbody>\n",
              "</table>\n",
              "</div>\n",
              "      <button class=\"colab-df-convert\" onclick=\"convertToInteractive('df-b186205f-d363-480a-b198-5a41592ae3d5')\"\n",
              "              title=\"Convert this dataframe to an interactive table.\"\n",
              "              style=\"display:none;\">\n",
              "        \n",
              "  <svg xmlns=\"http://www.w3.org/2000/svg\" height=\"24px\"viewBox=\"0 0 24 24\"\n",
              "       width=\"24px\">\n",
              "    <path d=\"M0 0h24v24H0V0z\" fill=\"none\"/>\n",
              "    <path d=\"M18.56 5.44l.94 2.06.94-2.06 2.06-.94-2.06-.94-.94-2.06-.94 2.06-2.06.94zm-11 1L8.5 8.5l.94-2.06 2.06-.94-2.06-.94L8.5 2.5l-.94 2.06-2.06.94zm10 10l.94 2.06.94-2.06 2.06-.94-2.06-.94-.94-2.06-.94 2.06-2.06.94z\"/><path d=\"M17.41 7.96l-1.37-1.37c-.4-.4-.92-.59-1.43-.59-.52 0-1.04.2-1.43.59L10.3 9.45l-7.72 7.72c-.78.78-.78 2.05 0 2.83L4 21.41c.39.39.9.59 1.41.59.51 0 1.02-.2 1.41-.59l7.78-7.78 2.81-2.81c.8-.78.8-2.07 0-2.86zM5.41 20L4 18.59l7.72-7.72 1.47 1.35L5.41 20z\"/>\n",
              "  </svg>\n",
              "      </button>\n",
              "      \n",
              "  <style>\n",
              "    .colab-df-container {\n",
              "      display:flex;\n",
              "      flex-wrap:wrap;\n",
              "      gap: 12px;\n",
              "    }\n",
              "\n",
              "    .colab-df-convert {\n",
              "      background-color: #E8F0FE;\n",
              "      border: none;\n",
              "      border-radius: 50%;\n",
              "      cursor: pointer;\n",
              "      display: none;\n",
              "      fill: #1967D2;\n",
              "      height: 32px;\n",
              "      padding: 0 0 0 0;\n",
              "      width: 32px;\n",
              "    }\n",
              "\n",
              "    .colab-df-convert:hover {\n",
              "      background-color: #E2EBFA;\n",
              "      box-shadow: 0px 1px 2px rgba(60, 64, 67, 0.3), 0px 1px 3px 1px rgba(60, 64, 67, 0.15);\n",
              "      fill: #174EA6;\n",
              "    }\n",
              "\n",
              "    [theme=dark] .colab-df-convert {\n",
              "      background-color: #3B4455;\n",
              "      fill: #D2E3FC;\n",
              "    }\n",
              "\n",
              "    [theme=dark] .colab-df-convert:hover {\n",
              "      background-color: #434B5C;\n",
              "      box-shadow: 0px 1px 3px 1px rgba(0, 0, 0, 0.15);\n",
              "      filter: drop-shadow(0px 1px 2px rgba(0, 0, 0, 0.3));\n",
              "      fill: #FFFFFF;\n",
              "    }\n",
              "  </style>\n",
              "\n",
              "      <script>\n",
              "        const buttonEl =\n",
              "          document.querySelector('#df-b186205f-d363-480a-b198-5a41592ae3d5 button.colab-df-convert');\n",
              "        buttonEl.style.display =\n",
              "          google.colab.kernel.accessAllowed ? 'block' : 'none';\n",
              "\n",
              "        async function convertToInteractive(key) {\n",
              "          const element = document.querySelector('#df-b186205f-d363-480a-b198-5a41592ae3d5');\n",
              "          const dataTable =\n",
              "            await google.colab.kernel.invokeFunction('convertToInteractive',\n",
              "                                                     [key], {});\n",
              "          if (!dataTable) return;\n",
              "\n",
              "          const docLinkHtml = 'Like what you see? Visit the ' +\n",
              "            '<a target=\"_blank\" href=https://colab.research.google.com/notebooks/data_table.ipynb>data table notebook</a>'\n",
              "            + ' to learn more about interactive tables.';\n",
              "          element.innerHTML = '';\n",
              "          dataTable['output_type'] = 'display_data';\n",
              "          await google.colab.output.renderOutput(dataTable, element);\n",
              "          const docLink = document.createElement('div');\n",
              "          docLink.innerHTML = docLinkHtml;\n",
              "          element.appendChild(docLink);\n",
              "        }\n",
              "      </script>\n",
              "    </div>\n",
              "  </div>\n",
              "  "
            ]
          },
          "metadata": {},
          "execution_count": 62
        }
      ]
    },
    {
      "cell_type": "markdown",
      "source": [
        "Spacy is the python library used to perform NLP procesing \n",
        "Tokenization is performed and Parts of Speech are extracted."
      ],
      "metadata": {
        "id": "1q-gYbOQ3XJi"
      }
    },
    {
      "cell_type": "code",
      "source": [
        "import en_core_web_sm\n",
        "import spacy\n",
        "text = df['text'][0]\n",
        "nlp = en_core_web_sm.load()\n",
        "doc = nlp(text)"
      ],
      "metadata": {
        "colab": {
          "base_uri": "https://localhost:8080/"
        },
        "id": "XnPxGzA0s2iJ",
        "outputId": "4bee9e01-fc73-4819-af44-bd9953bbe611"
      },
      "execution_count": 63,
      "outputs": [
        {
          "output_type": "stream",
          "name": "stderr",
          "text": [
            "/usr/local/lib/python3.8/dist-packages/torch/cuda/__init__.py:497: UserWarning: Can't initialize NVML\n",
            "  warnings.warn(\"Can't initialize NVML\")\n"
          ]
        }
      ]
    },
    {
      "cell_type": "code",
      "source": [
        "features = []\n",
        "for token in doc:\n",
        "    features.append({'token' : token.text, 'pos' : token.pos_})"
      ],
      "metadata": {
        "id": "LX8ViMXLtLrA"
      },
      "execution_count": 64,
      "outputs": []
    },
    {
      "cell_type": "code",
      "source": [
        "fdf = pd.DataFrame(features)\n",
        "fdf.head(len(fdf))"
      ],
      "metadata": {
        "colab": {
          "base_uri": "https://localhost:8080/",
          "height": 520
        },
        "id": "-1q2foJt00CL",
        "outputId": "48164756-60c0-4115-9b12-2ad8eb1c420a"
      },
      "execution_count": 65,
      "outputs": [
        {
          "output_type": "execute_result",
          "data": {
            "text/plain": [
              "       token    pos\n",
              "0          \"  PUNCT\n",
              "1        War    ADJ\n",
              "2       With    ADP\n",
              "3     Mother  PROPN\n",
              "4     Nature  PROPN\n",
              "5          \"  PUNCT\n",
              "6          :  PUNCT\n",
              "7   Colossal  PROPN\n",
              "8         US  PROPN\n",
              "9   Blizzard  PROPN\n",
              "10     Kills  PROPN\n",
              "11    Nearly    ADV\n",
              "12        50    NUM\n",
              "13         -  PUNCT\n",
              "14      NDTV  PROPN"
            ],
            "text/html": [
              "\n",
              "  <div id=\"df-064f3aa4-514d-42e4-be2b-0bce8cca72a8\">\n",
              "    <div class=\"colab-df-container\">\n",
              "      <div>\n",
              "<style scoped>\n",
              "    .dataframe tbody tr th:only-of-type {\n",
              "        vertical-align: middle;\n",
              "    }\n",
              "\n",
              "    .dataframe tbody tr th {\n",
              "        vertical-align: top;\n",
              "    }\n",
              "\n",
              "    .dataframe thead th {\n",
              "        text-align: right;\n",
              "    }\n",
              "</style>\n",
              "<table border=\"1\" class=\"dataframe\">\n",
              "  <thead>\n",
              "    <tr style=\"text-align: right;\">\n",
              "      <th></th>\n",
              "      <th>token</th>\n",
              "      <th>pos</th>\n",
              "    </tr>\n",
              "  </thead>\n",
              "  <tbody>\n",
              "    <tr>\n",
              "      <th>0</th>\n",
              "      <td>\"</td>\n",
              "      <td>PUNCT</td>\n",
              "    </tr>\n",
              "    <tr>\n",
              "      <th>1</th>\n",
              "      <td>War</td>\n",
              "      <td>ADJ</td>\n",
              "    </tr>\n",
              "    <tr>\n",
              "      <th>2</th>\n",
              "      <td>With</td>\n",
              "      <td>ADP</td>\n",
              "    </tr>\n",
              "    <tr>\n",
              "      <th>3</th>\n",
              "      <td>Mother</td>\n",
              "      <td>PROPN</td>\n",
              "    </tr>\n",
              "    <tr>\n",
              "      <th>4</th>\n",
              "      <td>Nature</td>\n",
              "      <td>PROPN</td>\n",
              "    </tr>\n",
              "    <tr>\n",
              "      <th>5</th>\n",
              "      <td>\"</td>\n",
              "      <td>PUNCT</td>\n",
              "    </tr>\n",
              "    <tr>\n",
              "      <th>6</th>\n",
              "      <td>:</td>\n",
              "      <td>PUNCT</td>\n",
              "    </tr>\n",
              "    <tr>\n",
              "      <th>7</th>\n",
              "      <td>Colossal</td>\n",
              "      <td>PROPN</td>\n",
              "    </tr>\n",
              "    <tr>\n",
              "      <th>8</th>\n",
              "      <td>US</td>\n",
              "      <td>PROPN</td>\n",
              "    </tr>\n",
              "    <tr>\n",
              "      <th>9</th>\n",
              "      <td>Blizzard</td>\n",
              "      <td>PROPN</td>\n",
              "    </tr>\n",
              "    <tr>\n",
              "      <th>10</th>\n",
              "      <td>Kills</td>\n",
              "      <td>PROPN</td>\n",
              "    </tr>\n",
              "    <tr>\n",
              "      <th>11</th>\n",
              "      <td>Nearly</td>\n",
              "      <td>ADV</td>\n",
              "    </tr>\n",
              "    <tr>\n",
              "      <th>12</th>\n",
              "      <td>50</td>\n",
              "      <td>NUM</td>\n",
              "    </tr>\n",
              "    <tr>\n",
              "      <th>13</th>\n",
              "      <td>-</td>\n",
              "      <td>PUNCT</td>\n",
              "    </tr>\n",
              "    <tr>\n",
              "      <th>14</th>\n",
              "      <td>NDTV</td>\n",
              "      <td>PROPN</td>\n",
              "    </tr>\n",
              "  </tbody>\n",
              "</table>\n",
              "</div>\n",
              "      <button class=\"colab-df-convert\" onclick=\"convertToInteractive('df-064f3aa4-514d-42e4-be2b-0bce8cca72a8')\"\n",
              "              title=\"Convert this dataframe to an interactive table.\"\n",
              "              style=\"display:none;\">\n",
              "        \n",
              "  <svg xmlns=\"http://www.w3.org/2000/svg\" height=\"24px\"viewBox=\"0 0 24 24\"\n",
              "       width=\"24px\">\n",
              "    <path d=\"M0 0h24v24H0V0z\" fill=\"none\"/>\n",
              "    <path d=\"M18.56 5.44l.94 2.06.94-2.06 2.06-.94-2.06-.94-.94-2.06-.94 2.06-2.06.94zm-11 1L8.5 8.5l.94-2.06 2.06-.94-2.06-.94L8.5 2.5l-.94 2.06-2.06.94zm10 10l.94 2.06.94-2.06 2.06-.94-2.06-.94-.94-2.06-.94 2.06-2.06.94z\"/><path d=\"M17.41 7.96l-1.37-1.37c-.4-.4-.92-.59-1.43-.59-.52 0-1.04.2-1.43.59L10.3 9.45l-7.72 7.72c-.78.78-.78 2.05 0 2.83L4 21.41c.39.39.9.59 1.41.59.51 0 1.02-.2 1.41-.59l7.78-7.78 2.81-2.81c.8-.78.8-2.07 0-2.86zM5.41 20L4 18.59l7.72-7.72 1.47 1.35L5.41 20z\"/>\n",
              "  </svg>\n",
              "      </button>\n",
              "      \n",
              "  <style>\n",
              "    .colab-df-container {\n",
              "      display:flex;\n",
              "      flex-wrap:wrap;\n",
              "      gap: 12px;\n",
              "    }\n",
              "\n",
              "    .colab-df-convert {\n",
              "      background-color: #E8F0FE;\n",
              "      border: none;\n",
              "      border-radius: 50%;\n",
              "      cursor: pointer;\n",
              "      display: none;\n",
              "      fill: #1967D2;\n",
              "      height: 32px;\n",
              "      padding: 0 0 0 0;\n",
              "      width: 32px;\n",
              "    }\n",
              "\n",
              "    .colab-df-convert:hover {\n",
              "      background-color: #E2EBFA;\n",
              "      box-shadow: 0px 1px 2px rgba(60, 64, 67, 0.3), 0px 1px 3px 1px rgba(60, 64, 67, 0.15);\n",
              "      fill: #174EA6;\n",
              "    }\n",
              "\n",
              "    [theme=dark] .colab-df-convert {\n",
              "      background-color: #3B4455;\n",
              "      fill: #D2E3FC;\n",
              "    }\n",
              "\n",
              "    [theme=dark] .colab-df-convert:hover {\n",
              "      background-color: #434B5C;\n",
              "      box-shadow: 0px 1px 3px 1px rgba(0, 0, 0, 0.15);\n",
              "      filter: drop-shadow(0px 1px 2px rgba(0, 0, 0, 0.3));\n",
              "      fill: #FFFFFF;\n",
              "    }\n",
              "  </style>\n",
              "\n",
              "      <script>\n",
              "        const buttonEl =\n",
              "          document.querySelector('#df-064f3aa4-514d-42e4-be2b-0bce8cca72a8 button.colab-df-convert');\n",
              "        buttonEl.style.display =\n",
              "          google.colab.kernel.accessAllowed ? 'block' : 'none';\n",
              "\n",
              "        async function convertToInteractive(key) {\n",
              "          const element = document.querySelector('#df-064f3aa4-514d-42e4-be2b-0bce8cca72a8');\n",
              "          const dataTable =\n",
              "            await google.colab.kernel.invokeFunction('convertToInteractive',\n",
              "                                                     [key], {});\n",
              "          if (!dataTable) return;\n",
              "\n",
              "          const docLinkHtml = 'Like what you see? Visit the ' +\n",
              "            '<a target=\"_blank\" href=https://colab.research.google.com/notebooks/data_table.ipynb>data table notebook</a>'\n",
              "            + ' to learn more about interactive tables.';\n",
              "          element.innerHTML = '';\n",
              "          dataTable['output_type'] = 'display_data';\n",
              "          await google.colab.output.renderOutput(dataTable, element);\n",
              "          const docLink = document.createElement('div');\n",
              "          docLink.innerHTML = docLinkHtml;\n",
              "          element.appendChild(docLink);\n",
              "        }\n",
              "      </script>\n",
              "    </div>\n",
              "  </div>\n",
              "  "
            ]
          },
          "metadata": {},
          "execution_count": 65
        }
      ]
    },
    {
      "cell_type": "code",
      "source": [
        "!pip install pyLDAvis -qq\n",
        "!pip install -qq -U gensim\n",
        "!pip install spacy -qq\n",
        "!pip install matplotlib -qq\n",
        "!pip install seaborn -qq\n",
        "!python -m spacy download en_core_web_md -qq"
      ],
      "metadata": {
        "colab": {
          "base_uri": "https://localhost:8080/"
        },
        "id": "uyMY5FmF1xDh",
        "outputId": "30394a00-d2f8-40a6-cca3-5be9e9095c3a"
      },
      "execution_count": 69,
      "outputs": [
        {
          "output_type": "stream",
          "name": "stdout",
          "text": [
            "\u001b[?25l\r\u001b[K     |▏                               | 10 kB 27.9 MB/s eta 0:00:01\r\u001b[K     |▍                               | 20 kB 33.8 MB/s eta 0:00:01\r\u001b[K     |▋                               | 30 kB 41.1 MB/s eta 0:00:01\r\u001b[K     |▉                               | 40 kB 29.4 MB/s eta 0:00:01\r\u001b[K     |█                               | 51 kB 32.9 MB/s eta 0:00:01\r\u001b[K     |█▏                              | 61 kB 36.9 MB/s eta 0:00:01\r\u001b[K     |█▍                              | 71 kB 25.5 MB/s eta 0:00:01\r\u001b[K     |█▋                              | 81 kB 25.9 MB/s eta 0:00:01\r\u001b[K     |█▉                              | 92 kB 28.0 MB/s eta 0:00:01\r\u001b[K     |██                              | 102 kB 29.5 MB/s eta 0:00:01\r\u001b[K     |██▏                             | 112 kB 29.5 MB/s eta 0:00:01\r\u001b[K     |██▍                             | 122 kB 29.5 MB/s eta 0:00:01\r\u001b[K     |██▋                             | 133 kB 29.5 MB/s eta 0:00:01\r\u001b[K     |██▊                             | 143 kB 29.5 MB/s eta 0:00:01\r\u001b[K     |███                             | 153 kB 29.5 MB/s eta 0:00:01\r\u001b[K     |███▏                            | 163 kB 29.5 MB/s eta 0:00:01\r\u001b[K     |███▍                            | 174 kB 29.5 MB/s eta 0:00:01\r\u001b[K     |███▋                            | 184 kB 29.5 MB/s eta 0:00:01\r\u001b[K     |███▊                            | 194 kB 29.5 MB/s eta 0:00:01\r\u001b[K     |████                            | 204 kB 29.5 MB/s eta 0:00:01\r\u001b[K     |████▏                           | 215 kB 29.5 MB/s eta 0:00:01\r\u001b[K     |████▍                           | 225 kB 29.5 MB/s eta 0:00:01\r\u001b[K     |████▋                           | 235 kB 29.5 MB/s eta 0:00:01\r\u001b[K     |████▊                           | 245 kB 29.5 MB/s eta 0:00:01\r\u001b[K     |█████                           | 256 kB 29.5 MB/s eta 0:00:01\r\u001b[K     |█████▏                          | 266 kB 29.5 MB/s eta 0:00:01\r\u001b[K     |█████▍                          | 276 kB 29.5 MB/s eta 0:00:01\r\u001b[K     |█████▌                          | 286 kB 29.5 MB/s eta 0:00:01\r\u001b[K     |█████▊                          | 296 kB 29.5 MB/s eta 0:00:01\r\u001b[K     |██████                          | 307 kB 29.5 MB/s eta 0:00:01\r\u001b[K     |██████▏                         | 317 kB 29.5 MB/s eta 0:00:01\r\u001b[K     |██████▍                         | 327 kB 29.5 MB/s eta 0:00:01\r\u001b[K     |██████▌                         | 337 kB 29.5 MB/s eta 0:00:01\r\u001b[K     |██████▊                         | 348 kB 29.5 MB/s eta 0:00:01\r\u001b[K     |███████                         | 358 kB 29.5 MB/s eta 0:00:01\r\u001b[K     |███████▏                        | 368 kB 29.5 MB/s eta 0:00:01\r\u001b[K     |███████▎                        | 378 kB 29.5 MB/s eta 0:00:01\r\u001b[K     |███████▌                        | 389 kB 29.5 MB/s eta 0:00:01\r\u001b[K     |███████▊                        | 399 kB 29.5 MB/s eta 0:00:01\r\u001b[K     |████████                        | 409 kB 29.5 MB/s eta 0:00:01\r\u001b[K     |████████▏                       | 419 kB 29.5 MB/s eta 0:00:01\r\u001b[K     |████████▎                       | 430 kB 29.5 MB/s eta 0:00:01\r\u001b[K     |████████▌                       | 440 kB 29.5 MB/s eta 0:00:01\r\u001b[K     |████████▊                       | 450 kB 29.5 MB/s eta 0:00:01\r\u001b[K     |█████████                       | 460 kB 29.5 MB/s eta 0:00:01\r\u001b[K     |█████████▏                      | 471 kB 29.5 MB/s eta 0:00:01\r\u001b[K     |█████████▎                      | 481 kB 29.5 MB/s eta 0:00:01\r\u001b[K     |█████████▌                      | 491 kB 29.5 MB/s eta 0:00:01\r\u001b[K     |█████████▊                      | 501 kB 29.5 MB/s eta 0:00:01\r\u001b[K     |██████████                      | 512 kB 29.5 MB/s eta 0:00:01\r\u001b[K     |██████████                      | 522 kB 29.5 MB/s eta 0:00:01\r\u001b[K     |██████████▎                     | 532 kB 29.5 MB/s eta 0:00:01\r\u001b[K     |██████████▌                     | 542 kB 29.5 MB/s eta 0:00:01\r\u001b[K     |██████████▊                     | 552 kB 29.5 MB/s eta 0:00:01\r\u001b[K     |███████████                     | 563 kB 29.5 MB/s eta 0:00:01\r\u001b[K     |███████████                     | 573 kB 29.5 MB/s eta 0:00:01\r\u001b[K     |███████████▎                    | 583 kB 29.5 MB/s eta 0:00:01\r\u001b[K     |███████████▌                    | 593 kB 29.5 MB/s eta 0:00:01\r\u001b[K     |███████████▊                    | 604 kB 29.5 MB/s eta 0:00:01\r\u001b[K     |███████████▉                    | 614 kB 29.5 MB/s eta 0:00:01\r\u001b[K     |████████████                    | 624 kB 29.5 MB/s eta 0:00:01\r\u001b[K     |████████████▎                   | 634 kB 29.5 MB/s eta 0:00:01\r\u001b[K     |████████████▌                   | 645 kB 29.5 MB/s eta 0:00:01\r\u001b[K     |████████████▊                   | 655 kB 29.5 MB/s eta 0:00:01\r\u001b[K     |████████████▉                   | 665 kB 29.5 MB/s eta 0:00:01\r\u001b[K     |█████████████                   | 675 kB 29.5 MB/s eta 0:00:01\r\u001b[K     |█████████████▎                  | 686 kB 29.5 MB/s eta 0:00:01\r\u001b[K     |█████████████▌                  | 696 kB 29.5 MB/s eta 0:00:01\r\u001b[K     |█████████████▊                  | 706 kB 29.5 MB/s eta 0:00:01\r\u001b[K     |█████████████▉                  | 716 kB 29.5 MB/s eta 0:00:01\r\u001b[K     |██████████████                  | 727 kB 29.5 MB/s eta 0:00:01\r\u001b[K     |██████████████▎                 | 737 kB 29.5 MB/s eta 0:00:01\r\u001b[K     |██████████████▌                 | 747 kB 29.5 MB/s eta 0:00:01\r\u001b[K     |██████████████▋                 | 757 kB 29.5 MB/s eta 0:00:01\r\u001b[K     |██████████████▉                 | 768 kB 29.5 MB/s eta 0:00:01\r\u001b[K     |███████████████                 | 778 kB 29.5 MB/s eta 0:00:01\r\u001b[K     |███████████████▎                | 788 kB 29.5 MB/s eta 0:00:01\r\u001b[K     |███████████████▌                | 798 kB 29.5 MB/s eta 0:00:01\r\u001b[K     |███████████████▋                | 808 kB 29.5 MB/s eta 0:00:01\r\u001b[K     |███████████████▉                | 819 kB 29.5 MB/s eta 0:00:01\r\u001b[K     |████████████████                | 829 kB 29.5 MB/s eta 0:00:01\r\u001b[K     |████████████████▎               | 839 kB 29.5 MB/s eta 0:00:01\r\u001b[K     |████████████████▍               | 849 kB 29.5 MB/s eta 0:00:01\r\u001b[K     |████████████████▋               | 860 kB 29.5 MB/s eta 0:00:01\r\u001b[K     |████████████████▉               | 870 kB 29.5 MB/s eta 0:00:01\r\u001b[K     |█████████████████               | 880 kB 29.5 MB/s eta 0:00:01\r\u001b[K     |█████████████████▎              | 890 kB 29.5 MB/s eta 0:00:01\r\u001b[K     |█████████████████▍              | 901 kB 29.5 MB/s eta 0:00:01\r\u001b[K     |█████████████████▋              | 911 kB 29.5 MB/s eta 0:00:01\r\u001b[K     |█████████████████▉              | 921 kB 29.5 MB/s eta 0:00:01\r\u001b[K     |██████████████████              | 931 kB 29.5 MB/s eta 0:00:01\r\u001b[K     |██████████████████▎             | 942 kB 29.5 MB/s eta 0:00:01\r\u001b[K     |██████████████████▍             | 952 kB 29.5 MB/s eta 0:00:01\r\u001b[K     |██████████████████▋             | 962 kB 29.5 MB/s eta 0:00:01\r\u001b[K     |██████████████████▉             | 972 kB 29.5 MB/s eta 0:00:01\r\u001b[K     |███████████████████             | 983 kB 29.5 MB/s eta 0:00:01\r\u001b[K     |███████████████████▏            | 993 kB 29.5 MB/s eta 0:00:01\r\u001b[K     |███████████████████▍            | 1.0 MB 29.5 MB/s eta 0:00:01\r\u001b[K     |███████████████████▋            | 1.0 MB 29.5 MB/s eta 0:00:01\r\u001b[K     |███████████████████▉            | 1.0 MB 29.5 MB/s eta 0:00:01\r\u001b[K     |████████████████████            | 1.0 MB 29.5 MB/s eta 0:00:01\r\u001b[K     |████████████████████▏           | 1.0 MB 29.5 MB/s eta 0:00:01\r\u001b[K     |████████████████████▍           | 1.1 MB 29.5 MB/s eta 0:00:01\r\u001b[K     |████████████████████▋           | 1.1 MB 29.5 MB/s eta 0:00:01\r\u001b[K     |████████████████████▉           | 1.1 MB 29.5 MB/s eta 0:00:01\r\u001b[K     |█████████████████████           | 1.1 MB 29.5 MB/s eta 0:00:01\r\u001b[K     |█████████████████████▏          | 1.1 MB 29.5 MB/s eta 0:00:01\r\u001b[K     |█████████████████████▍          | 1.1 MB 29.5 MB/s eta 0:00:01\r\u001b[K     |█████████████████████▋          | 1.1 MB 29.5 MB/s eta 0:00:01\r\u001b[K     |█████████████████████▉          | 1.1 MB 29.5 MB/s eta 0:00:01\r\u001b[K     |██████████████████████          | 1.1 MB 29.5 MB/s eta 0:00:01\r\u001b[K     |██████████████████████▏         | 1.1 MB 29.5 MB/s eta 0:00:01\r\u001b[K     |██████████████████████▍         | 1.2 MB 29.5 MB/s eta 0:00:01\r\u001b[K     |██████████████████████▋         | 1.2 MB 29.5 MB/s eta 0:00:01\r\u001b[K     |██████████████████████▉         | 1.2 MB 29.5 MB/s eta 0:00:01\r\u001b[K     |███████████████████████         | 1.2 MB 29.5 MB/s eta 0:00:01\r\u001b[K     |███████████████████████▏        | 1.2 MB 29.5 MB/s eta 0:00:01\r\u001b[K     |███████████████████████▍        | 1.2 MB 29.5 MB/s eta 0:00:01\r\u001b[K     |███████████████████████▋        | 1.2 MB 29.5 MB/s eta 0:00:01\r\u001b[K     |███████████████████████▊        | 1.2 MB 29.5 MB/s eta 0:00:01\r\u001b[K     |████████████████████████        | 1.2 MB 29.5 MB/s eta 0:00:01\r\u001b[K     |████████████████████████▏       | 1.2 MB 29.5 MB/s eta 0:00:01\r\u001b[K     |████████████████████████▍       | 1.3 MB 29.5 MB/s eta 0:00:01\r\u001b[K     |████████████████████████▋       | 1.3 MB 29.5 MB/s eta 0:00:01\r\u001b[K     |████████████████████████▊       | 1.3 MB 29.5 MB/s eta 0:00:01\r\u001b[K     |█████████████████████████       | 1.3 MB 29.5 MB/s eta 0:00:01\r\u001b[K     |█████████████████████████▏      | 1.3 MB 29.5 MB/s eta 0:00:01\r\u001b[K     |█████████████████████████▍      | 1.3 MB 29.5 MB/s eta 0:00:01\r\u001b[K     |█████████████████████████▌      | 1.3 MB 29.5 MB/s eta 0:00:01\r\u001b[K     |█████████████████████████▊      | 1.3 MB 29.5 MB/s eta 0:00:01\r\u001b[K     |██████████████████████████      | 1.3 MB 29.5 MB/s eta 0:00:01\r\u001b[K     |██████████████████████████▏     | 1.4 MB 29.5 MB/s eta 0:00:01\r\u001b[K     |██████████████████████████▍     | 1.4 MB 29.5 MB/s eta 0:00:01\r\u001b[K     |██████████████████████████▌     | 1.4 MB 29.5 MB/s eta 0:00:01\r\u001b[K     |██████████████████████████▊     | 1.4 MB 29.5 MB/s eta 0:00:01\r\u001b[K     |███████████████████████████     | 1.4 MB 29.5 MB/s eta 0:00:01\r\u001b[K     |███████████████████████████▏    | 1.4 MB 29.5 MB/s eta 0:00:01\r\u001b[K     |███████████████████████████▍    | 1.4 MB 29.5 MB/s eta 0:00:01\r\u001b[K     |███████████████████████████▌    | 1.4 MB 29.5 MB/s eta 0:00:01\r\u001b[K     |███████████████████████████▊    | 1.4 MB 29.5 MB/s eta 0:00:01\r\u001b[K     |████████████████████████████    | 1.4 MB 29.5 MB/s eta 0:00:01\r\u001b[K     |████████████████████████████▏   | 1.5 MB 29.5 MB/s eta 0:00:01\r\u001b[K     |████████████████████████████▎   | 1.5 MB 29.5 MB/s eta 0:00:01\r\u001b[K     |████████████████████████████▌   | 1.5 MB 29.5 MB/s eta 0:00:01\r\u001b[K     |████████████████████████████▊   | 1.5 MB 29.5 MB/s eta 0:00:01\r\u001b[K     |█████████████████████████████   | 1.5 MB 29.5 MB/s eta 0:00:01\r\u001b[K     |█████████████████████████████▏  | 1.5 MB 29.5 MB/s eta 0:00:01\r\u001b[K     |█████████████████████████████▎  | 1.5 MB 29.5 MB/s eta 0:00:01\r\u001b[K     |█████████████████████████████▌  | 1.5 MB 29.5 MB/s eta 0:00:01\r\u001b[K     |█████████████████████████████▊  | 1.5 MB 29.5 MB/s eta 0:00:01\r\u001b[K     |██████████████████████████████  | 1.5 MB 29.5 MB/s eta 0:00:01\r\u001b[K     |██████████████████████████████▏ | 1.6 MB 29.5 MB/s eta 0:00:01\r\u001b[K     |██████████████████████████████▎ | 1.6 MB 29.5 MB/s eta 0:00:01\r\u001b[K     |██████████████████████████████▌ | 1.6 MB 29.5 MB/s eta 0:00:01\r\u001b[K     |██████████████████████████████▊ | 1.6 MB 29.5 MB/s eta 0:00:01\r\u001b[K     |███████████████████████████████ | 1.6 MB 29.5 MB/s eta 0:00:01\r\u001b[K     |███████████████████████████████ | 1.6 MB 29.5 MB/s eta 0:00:01\r\u001b[K     |███████████████████████████████▎| 1.6 MB 29.5 MB/s eta 0:00:01\r\u001b[K     |███████████████████████████████▌| 1.6 MB 29.5 MB/s eta 0:00:01\r\u001b[K     |███████████████████████████████▊| 1.6 MB 29.5 MB/s eta 0:00:01\r\u001b[K     |████████████████████████████████| 1.6 MB 29.5 MB/s eta 0:00:01\r\u001b[K     |████████████████████████████████| 1.7 MB 29.5 MB/s \n",
            "\u001b[?25h  Installing build dependencies ... \u001b[?25l\u001b[?25hdone\n",
            "  Getting requirements to build wheel ... \u001b[?25l\u001b[?25hdone\n",
            "  Installing backend dependencies ... \u001b[?25l\u001b[?25hdone\n",
            "    Preparing wheel metadata ... \u001b[?25l\u001b[?25hdone\n",
            "  Building wheel for pyLDAvis (PEP 517) ... \u001b[?25l\u001b[?25hdone\n",
            "  Building wheel for sklearn (setup.py) ... \u001b[?25l\u001b[?25hdone\n",
            "\u001b[K     |████████████████████████████████| 24.1 MB 1.4 MB/s \n",
            "\u001b[K     |████████████████████████████████| 67 kB 6.8 MB/s \n",
            "\u001b[?25h  Building wheel for fst-pso (setup.py) ... \u001b[?25l\u001b[?25hdone\n",
            "  Building wheel for miniful (setup.py) ... \u001b[?25l\u001b[?25hdone\n",
            "/usr/local/lib/python3.8/dist-packages/torch/cuda/__init__.py:497: UserWarning: Can't initialize NVML\n",
            "  warnings.warn(\"Can't initialize NVML\")\n",
            "2022-12-27 04:29:32.391182: E tensorflow/stream_executor/cuda/cuda_driver.cc:271] failed call to cuInit: CUDA_ERROR_NO_DEVICE: no CUDA-capable device is detected\n",
            "\u001b[K     |████████████████████████████████| 42.8 MB 1.9 MB/s \n",
            "\u001b[?25h\u001b[38;5;2m✔ Download and installation successful\u001b[0m\n",
            "You can now load the package via spacy.load('en_core_web_md')\n"
          ]
        }
      ]
    },
    {
      "cell_type": "markdown",
      "source": [],
      "metadata": {
        "id": "20D7SNlS125s"
      }
    },
    {
      "cell_type": "code",
      "source": [],
      "metadata": {
        "id": "5gfbASLM1Vx1"
      },
      "execution_count": null,
      "outputs": []
    }
  ]
}